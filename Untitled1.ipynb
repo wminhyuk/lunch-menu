{
 "cells": [
  {
   "cell_type": "code",
   "execution_count": 1,
   "id": "c90c2f55-885f-4aa9-a7a5-5838ddeebd99",
   "metadata": {},
   "outputs": [],
   "source": [
    "members = {\"SEO\": 5, \"TOM\": 1, \"cho\": 2, \"hyun\": 3, \"nuni\": 10, \"JERRY\": 4, \"jacob\": 7, \"jiwon\": 6, \"lucas\": 9, \"heejin\": 8}"
   ]
  },
  {
   "cell_type": "code",
   "execution_count": 2,
   "id": "81039e58-e217-4062-93b0-f63bad150c8e",
   "metadata": {},
   "outputs": [
    {
     "data": {
      "text/plain": [
       "dict"
      ]
     },
     "execution_count": 2,
     "metadata": {},
     "output_type": "execute_result"
    }
   ],
   "source": [
    " type(members)"
   ]
  },
  {
   "cell_type": "code",
   "execution_count": 4,
   "id": "390d0949-a50a-479c-8a1e-217f5d8475f4",
   "metadata": {},
   "outputs": [],
   "source": [
    "keys_list = list(members.keys())"
   ]
  },
  {
   "cell_type": "code",
   "execution_count": 5,
   "id": "d1653b47-4b3c-4dce-ae2e-4f453f58921f",
   "metadata": {},
   "outputs": [
    {
     "name": "stdout",
     "output_type": "stream",
     "text": [
      "['SEO', 'TOM', 'cho', 'hyun', 'nuni', 'JERRY', 'jacob', 'jiwon', 'lucas', 'heejin']\n"
     ]
    }
   ],
   "source": [
    "print(keys_list)"
   ]
  },
  {
   "cell_type": "code",
   "execution_count": 6,
   "id": "04e8128c-918f-4a5a-ba91-8c4a333b8c21",
   "metadata": {},
   "outputs": [
    {
     "name": "stdin",
     "output_type": "stream",
     "text": [
      "이름을 입력하세요:  SEO\n"
     ]
    }
   ],
   "source": [
    "keyname = input(\"이름을 입력하세요: \").strip()"
   ]
  },
  {
   "cell_type": "code",
   "execution_count": 10,
   "id": "df48d36c-3289-4f46-b12b-0ef33d12be2f",
   "metadata": {},
   "outputs": [],
   "source": [
    "value = members.get(keyname, \"존재하지 않는 이름입니다.\")"
   ]
  },
  {
   "cell_type": "code",
   "execution_count": 11,
   "id": "de11c60a-5b35-4b34-89e9-a9bf14fcef4e",
   "metadata": {},
   "outputs": [
    {
     "name": "stdout",
     "output_type": "stream",
     "text": [
      "5\n"
     ]
    }
   ],
   "source": [
    "print(value)"
   ]
  },
  {
   "cell_type": "code",
   "execution_count": null,
   "id": "2fa60891-9e29-4f2d-b03b-41deeacac83d",
   "metadata": {},
   "outputs": [],
   "source": []
  }
 ],
 "metadata": {
  "kernelspec": {
   "display_name": "Python 3 (ipykernel)",
   "language": "python",
   "name": "python3"
  },
  "language_info": {
   "codemirror_mode": {
    "name": "ipython",
    "version": 3
   },
   "file_extension": ".py",
   "mimetype": "text/x-python",
   "name": "python",
   "nbconvert_exporter": "python",
   "pygments_lexer": "ipython3",
   "version": "3.10.12"
  }
 },
 "nbformat": 4,
 "nbformat_minor": 5
}
