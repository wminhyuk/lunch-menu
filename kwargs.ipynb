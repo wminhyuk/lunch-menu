{
 "cells": [
  {
   "cell_type": "code",
   "execution_count": 7,
   "id": "7169ae86-a853-4bf4-a8f3-2e561cb69672",
   "metadata": {},
   "outputs": [],
   "source": [
    "def fun_args(*args):\n",
    "    print(f\"args...{type(args)}\")\n",
    "    for a in args:\n",
    "        print(a)"
   ]
  },
  {
   "cell_type": "code",
   "execution_count": 3,
   "id": "adf2707a-edec-4373-a749-bfe1ad54b514",
   "metadata": {},
   "outputs": [
    {
     "name": "stdout",
     "output_type": "stream",
     "text": [
      "args...<class 'tuple'>\n",
      "1\n",
      "2\n",
      "3\n"
     ]
    }
   ],
   "source": [
    "fun_args(1,2,3)"
   ]
  },
  {
   "cell_type": "code",
   "execution_count": 8,
   "id": "535f11a5-0985-4c8e-bd24-dd06f5cb8801",
   "metadata": {},
   "outputs": [
    {
     "data": {
      "text/plain": [
       "dict_items([('name', 'pey'), ('phone', '010-9999-1234'), ('birth', '1118')])"
      ]
     },
     "execution_count": 8,
     "metadata": {},
     "output_type": "execute_result"
    }
   ],
   "source": [
    "a = {'name': 'pey', 'phone': '010-9999-1234', 'birth': '1118'}\n",
    "a.items()"
   ]
  },
  {
   "cell_type": "code",
   "execution_count": 11,
   "id": "31239eac-9911-4305-b161-8011a4a9113b",
   "metadata": {},
   "outputs": [],
   "source": [
    "def fun_kwargs(**kwargs):\n",
    "    print(f\"kwargs...{type(kwargs)}\")\n",
    "    #for\n",
    "        #rpint(prnint(f"
   ]
  },
  {
   "cell_type": "code",
   "execution_count": 12,
   "id": "e132d1f1-e8fe-499a-9d87-03bbd007079c",
   "metadata": {},
   "outputs": [
    {
     "name": "stdout",
     "output_type": "stream",
     "text": [
      "kwargs...<class 'dict'>\n"
     ]
    }
   ],
   "source": [
    "fun_kwargs()"
   ]
  },
  {
   "cell_type": "code",
   "execution_count": 16,
   "id": "1004464a-7839-430b-8b28-695c2c8e6e5e",
   "metadata": {},
   "outputs": [
    {
     "name": "stdout",
     "output_type": "stream",
     "text": [
      "kwargs...<class 'dict'>\n"
     ]
    }
   ],
   "source": [
    "fun_kwargs(dbname=\"sunsindb\", user=\"sunsin\", abc=\"aaa\")"
   ]
  },
  {
   "cell_type": "code",
   "execution_count": 17,
   "id": "23236918-5aa3-4982-a110-718459f3b561",
   "metadata": {},
   "outputs": [
    {
     "ename": "NameError",
     "evalue": "name 'dbname' is not defined",
     "output_type": "error",
     "traceback": [
      "\u001b[0;31m---------------------------------------------------------------------------\u001b[0m",
      "\u001b[0;31mNameError\u001b[0m                                 Traceback (most recent call last)",
      "Cell \u001b[0;32mIn[17], line 2\u001b[0m\n\u001b[1;32m      1\u001b[0m DB_CONFIG \u001b[38;5;241m=\u001b[39m {\n\u001b[0;32m----> 2\u001b[0m \u001b[43mdbname\u001b[49m: \u001b[38;5;124m\"\u001b[39m\u001b[38;5;124msunsindb\u001b[39m\u001b[38;5;124m\"\u001b[39m,\n\u001b[1;32m      3\u001b[0m user: \u001b[38;5;124m\"\u001b[39m\u001b[38;5;124msunsin\u001b[39m\u001b[38;5;124m\"\u001b[39m,\n\u001b[1;32m      4\u001b[0m password: \u001b[38;5;124m\"\u001b[39m\u001b[38;5;124mmysecretpassword\u001b[39m\u001b[38;5;124m\"\u001b[39m,\n\u001b[1;32m      5\u001b[0m host: \u001b[38;5;124m\"\u001b[39m\u001b[38;5;124mlocalhost\u001b[39m\u001b[38;5;124m\"\u001b[39m,\n\u001b[1;32m      6\u001b[0m port: \u001b[38;5;241m5432\u001b[39m,\n\u001b[1;32m      7\u001b[0m }\n",
      "\u001b[0;31mNameError\u001b[0m: name 'dbname' is not defined"
     ]
    }
   ],
   "source": [
    "    DB_CONFIG = {\n",
    "    dbname: \"sunsindb\",\n",
    "    user: \"sunsin\",\n",
    "    password: \"mysecretpassword\",\n",
    "    host: \"localhost\",\n",
    "    port: 5432,\n",
    "    }"
   ]
  },
  {
   "cell_type": "code",
   "execution_count": null,
   "id": "a64ba536-f70b-435a-a6f9-92c2830f02bf",
   "metadata": {},
   "outputs": [],
   "source": [
    "def fun_kwargs(**kwargs:):"
   ]
  },
  {
   "cell_type": "code",
   "execution_count": 6,
   "id": "ff3104e2-49b2-4c0c-ac35-31d23a8a5b58",
   "metadata": {},
   "outputs": [
    {
     "ename": "NameError",
     "evalue": "name 'typr' is not defined",
     "output_type": "error",
     "traceback": [
      "\u001b[0;31m---------------------------------------------------------------------------\u001b[0m",
      "\u001b[0;31mNameError\u001b[0m                                 Traceback (most recent call last)",
      "Cell \u001b[0;32mIn[6], line 1\u001b[0m\n\u001b[0;32m----> 1\u001b[0m \u001b[43mfun_jjamppong\u001b[49m\u001b[43m(\u001b[49m\u001b[38;5;241;43m1\u001b[39;49m\u001b[43m,\u001b[49m\u001b[38;5;124;43m\"\u001b[39;49m\u001b[38;5;124;43mA\u001b[39;49m\u001b[38;5;124;43m\"\u001b[39;49m\u001b[43m,\u001b[49m\u001b[38;5;124;43m\"\u001b[39;49m\u001b[38;5;124;43mB\u001b[39;49m\u001b[38;5;124;43m\"\u001b[39;49m\u001b[43m,\u001b[49m\u001b[43m \u001b[49m\u001b[43mmenu\u001b[49m\u001b[38;5;241;43m=\u001b[39;49m\u001b[38;5;124;43m\"\u001b[39;49m\u001b[38;5;124;43ma\u001b[39;49m\u001b[38;5;124;43m\"\u001b[39;49m\u001b[43m,\u001b[49m\u001b[43m \u001b[49m\u001b[43mfood\u001b[49m\u001b[38;5;241;43m=\u001b[39;49m\u001b[38;5;124;43m\"\u001b[39;49m\u001b[38;5;124;43mb\u001b[39;49m\u001b[38;5;124;43m\"\u001b[39;49m\u001b[43m)\u001b[49m\n",
      "Cell \u001b[0;32mIn[4], line 2\u001b[0m, in \u001b[0;36mfun_jjamppong\u001b[0;34m(name, *args, **kwargs)\u001b[0m\n\u001b[1;32m      1\u001b[0m \u001b[38;5;28;01mdef\u001b[39;00m\u001b[38;5;250m \u001b[39m\u001b[38;5;21mfun_jjamppong\u001b[39m(name, \u001b[38;5;241m*\u001b[39margs, \u001b[38;5;241m*\u001b[39m\u001b[38;5;241m*\u001b[39mkwargs):\n\u001b[0;32m----> 2\u001b[0m     \u001b[38;5;28mprint\u001b[39m(\u001b[38;5;124mf\u001b[39m\u001b[38;5;124m\"\u001b[39m\u001b[38;5;124mjjamppong...\u001b[39m\u001b[38;5;132;01m{\u001b[39;00m\u001b[38;5;28mtype\u001b[39m(name)\u001b[38;5;132;01m}\u001b[39;00m\u001b[38;5;124m,\u001b[39m\u001b[38;5;132;01m{\u001b[39;00m\u001b[43mtypr\u001b[49m(args)\u001b[38;5;132;01m}\u001b[39;00m\u001b[38;5;124m, \u001b[39m\u001b[38;5;132;01m{\u001b[39;00m\u001b[38;5;28mtype\u001b[39m(kwargs)\u001b[38;5;132;01m}\u001b[39;00m\u001b[38;5;124m\"\u001b[39m)\n",
      "\u001b[0;31mNameError\u001b[0m: name 'typr' is not defined"
     ]
    }
   ],
   "source": [
    "fun_jjamppong(1,\"A\",\"B\", menu=\"a\", food=\"b\")"
   ]
  },
  {
   "cell_type": "code",
   "execution_count": 4,
   "id": "ca4a80ea-62a0-41e1-8e91-501426306ad4",
   "metadata": {},
   "outputs": [],
   "source": [
    "def fun_jjamppong(name, *args, **kwargs):\n",
    "    print(f\"jjamppong...{type(name)},{typr(args)}, {type(kwargs)}\")"
   ]
  }
 ],
 "metadata": {
  "kernelspec": {
   "display_name": "Python 3 (ipykernel)",
   "language": "python",
   "name": "python3"
  },
  "language_info": {
   "codemirror_mode": {
    "name": "ipython",
    "version": 3
   },
   "file_extension": ".py",
   "mimetype": "text/x-python",
   "name": "python",
   "nbconvert_exporter": "python",
   "pygments_lexer": "ipython3",
   "version": "3.10.12"
  }
 },
 "nbformat": 4,
 "nbformat_minor": 5
}
