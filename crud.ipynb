{
 "cells": [
  {
   "cell_type": "code",
   "execution_count": 1,
   "id": "d8509284-7f5e-47c9-9f03-c2baf7cb6a14",
   "metadata": {},
   "outputs": [],
   "source": [
    "import psycopg"
   ]
  },
  {
   "cell_type": "code",
   "execution_count": 2,
   "id": "22f9682e-db82-4197-ae53-9b9d4aa64bba",
   "metadata": {},
   "outputs": [],
   "source": []
  },
  {
   "cell_type": "code",
   "execution_count": 2,
   "id": "470f6abc-e72e-4866-9c6a-ee0493a9c7ab",
   "metadata": {},
   "outputs": [],
   "source": [
    "DB_CONFIG = {\n",
    "    \"dbname\": \"sunsindb\",\n",
    "    \"user\":\"sunsin\",\n",
    "    \"passworld\":\"mysecretpassword\",\n",
    "    \"hist\":\"localhost\",\n",
    "    \"port\":\"5432\"\n",
    "}\n",
    "\n",
    "# sudo docker run --name local-postgres \\\\n-e POSTGRES_USER=sunsin \\\\n-e POSTGRES_PASSWORD=mysecretpassword \\\\n-e POSTGRES_DB=sunsindb \\\\n-p 5432:5432 \\\\n-d postgres:15.10"
   ]
  },
  {
   "cell_type": "code",
   "execution_count": 3,
   "id": "3d586cc6-950b-4a01-8263-72143fa864ad",
   "metadata": {},
   "outputs": [
    {
     "ename": "ProgrammingError",
     "evalue": "invalid connection option \"passworld\"\n",
     "output_type": "error",
     "traceback": [
      "\u001b[0;31m---------------------------------------------------------------------------\u001b[0m",
      "\u001b[0;31mProgrammingError\u001b[0m                          Traceback (most recent call last)",
      "Cell \u001b[0;32mIn[3], line 1\u001b[0m\n\u001b[0;32m----> 1\u001b[0m \u001b[43mpsycopg\u001b[49m\u001b[38;5;241;43m.\u001b[39;49m\u001b[43mconnect\u001b[49m\u001b[43m(\u001b[49m\u001b[38;5;241;43m*\u001b[39;49m\u001b[38;5;241;43m*\u001b[39;49m\u001b[43mDB_CONFIG\u001b[49m\u001b[43m)\u001b[49m\n",
      "File \u001b[0;32m~/code/lunch-menu/.venv/lib/python3.10/site-packages/psycopg/connection.py:119\u001b[0m, in \u001b[0;36mConnection.connect\u001b[0;34m(cls, conninfo, autocommit, prepare_threshold, context, row_factory, cursor_factory, **kwargs)\u001b[0m\n\u001b[1;32m    117\u001b[0m \u001b[38;5;28;01mif\u001b[39;00m \u001b[38;5;129;01mnot\u001b[39;00m rv:\n\u001b[1;32m    118\u001b[0m     \u001b[38;5;28;01massert\u001b[39;00m last_ex\n\u001b[0;32m--> 119\u001b[0m     \u001b[38;5;28;01mraise\u001b[39;00m last_ex\u001b[38;5;241m.\u001b[39mwith_traceback(\u001b[38;5;28;01mNone\u001b[39;00m)\n\u001b[1;32m    121\u001b[0m rv\u001b[38;5;241m.\u001b[39m_autocommit \u001b[38;5;241m=\u001b[39m \u001b[38;5;28mbool\u001b[39m(autocommit)\n\u001b[1;32m    122\u001b[0m \u001b[38;5;28;01mif\u001b[39;00m row_factory:\n",
      "\u001b[0;31mProgrammingError\u001b[0m: invalid connection option \"passworld\"\n"
     ]
    }
   ],
   "source": [
    "psycopg.connect(**DB_CONFIG)"
   ]
  },
  {
   "cell_type": "code",
   "execution_count": null,
   "id": "82ab35f6-bfa9-4c32-aff4-808e462c37ad",
   "metadata": {},
   "outputs": [],
   "source": [
    "psycopg.connect(dbname: \"sunsindb\",\n",
    "    user:\"sunsin\",\n",
    "    passworld:\"mysecretpassword\",\n",
    "    hist:\"localhost\",\n",
    "    port:\"5432\")"
   ]
  },
  {
   "cell_type": "code",
   "execution_count": 4,
   "id": "186b1cdd-699a-48f0-8e02-e51de21f136b",
   "metadata": {},
   "outputs": [],
   "source": [
    "def get_connection():\n",
    "    return psycopg.connect(**DB_CONFIG)"
   ]
  },
  {
   "cell_type": "code",
   "execution_count": null,
   "id": "3ad190c7-0fe0-44a3-90f0-33cdf1168067",
   "metadata": {},
   "outputs": [],
   "source": [
    "conn = get_connection()"
   ]
  },
  {
   "cell_type": "code",
   "execution_count": null,
   "id": "5b2399f1-f267-499c-be5b-54fc00c54439",
   "metadata": {},
   "outputs": [],
   "source": [
    "cursor = conn.cursor()"
   ]
  },
  {
   "cell_type": "code",
   "execution_count": null,
   "id": "56af7985-f701-41dc-b0cc-c55d3c15710d",
   "metadata": {},
   "outputs": [],
   "source": [
    "cursor.execute(\n",
    "    \"insert into lunch_menu(member_name, menu_name, dt) values('짜장면', 'TOM', '2025-02-03')\n",
    "    "
   ]
  }
 ],
 "metadata": {
  "kernelspec": {
   "display_name": "Python 3 (ipykernel)",
   "language": "python",
   "name": "python3"
  },
  "language_info": {
   "codemirror_mode": {
    "name": "ipython",
    "version": 3
   },
   "file_extension": ".py",
   "mimetype": "text/x-python",
   "name": "python",
   "nbconvert_exporter": "python",
   "pygments_lexer": "ipython3",
   "version": "3.10.12"
  }
 },
 "nbformat": 4,
 "nbformat_minor": 5
}
