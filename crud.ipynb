{
 "cells": [
  {
   "cell_type": "code",
   "execution_count": 6,
   "id": "d8509284-7f5e-47c9-9f03-c2baf7cb6a14",
   "metadata": {},
   "outputs": [],
   "source": [
    "import psycopg"
   ]
  },
  {
   "cell_type": "code",
   "execution_count": 2,
   "id": "22f9682e-db82-4197-ae53-9b9d4aa64bba",
   "metadata": {},
   "outputs": [],
   "source": []
  },
  {
   "cell_type": "code",
   "execution_count": 11,
   "id": "470f6abc-e72e-4866-9c6a-ee0493a9c7ab",
   "metadata": {},
   "outputs": [],
   "source": [
    "DB_CONFIG = {\n",
    "    \"dbname\": \"sunsindb\",\n",
    "    \"user\":\"sunsin\",\n",
    "    \"password\":\"mysecretpassword\",\n",
    "    \"host\":\"localhost\",\n",
    "    \"iport\":\"5432\"\n",
    "}\n",
    "\n",
    "# sudo docker run --name local-postgres \\\\n-e POSTGRES_USER=sunsin \\\\n-e POSTGRES_PASSWORD=mysecretpassword \\\\n-e POSTGRES_DB=sunsindb \\\\n-p 5432:5432 \\\\n-d postgres:15.10"
   ]
  },
  {
   "cell_type": "code",
   "execution_count": 12,
   "id": "3d586cc6-950b-4a01-8263-72143fa864ad",
   "metadata": {},
   "outputs": [
    {
     "data": {
      "text/plain": [
       "<psycopg.Connection [IDLE] (host=localhost user=sunsin database=sunsindb) at 0x7f6b69faa830>"
      ]
     },
     "execution_count": 12,
     "metadata": {},
     "output_type": "execute_result"
    }
   ],
   "source": [
    "psycopg.connect(**DB_CONFIG)"
   ]
  },
  {
   "cell_type": "code",
   "execution_count": 16,
   "id": "82ab35f6-bfa9-4c32-aff4-808e462c37ad",
   "metadata": {},
   "outputs": [
    {
     "data": {
      "text/plain": [
       "<psycopg.Connection [IDLE] (host=localhost user=sunsin database=sunsindb) at 0x7f6b6a321d20>"
      ]
     },
     "execution_count": 16,
     "metadata": {},
     "output_type": "execute_result"
    }
   ],
   "source": [
    "psycopg.connect(dbname= \"sunsindb\",\n",
    "    user=\"sunsin\",\n",
    "    password=\"mysecretpassword\",\n",
    "    host=\"localhost\",\n",
    "    port=\"5432\")"
   ]
  },
  {
   "cell_type": "code",
   "execution_count": 17,
   "id": "186b1cdd-699a-48f0-8e02-e51de21f136b",
   "metadata": {},
   "outputs": [],
   "source": [
    "def get_connection():\n",
    "    return psycopg.connect(**DB_CONFIG)"
   ]
  },
  {
   "cell_type": "code",
   "execution_count": 18,
   "id": "3ad190c7-0fe0-44a3-90f0-33cdf1168067",
   "metadata": {},
   "outputs": [],
   "source": [
    "conn = get_connection()"
   ]
  },
  {
   "cell_type": "code",
   "execution_count": 19,
   "id": "5b2399f1-f267-499c-be5b-54fc00c54439",
   "metadata": {},
   "outputs": [],
   "source": [
    "cursor = conn.cursor()"
   ]
  },
  {
   "cell_type": "code",
   "execution_count": 24,
   "id": "56af7985-f701-41dc-b0cc-c55d3c15710d",
   "metadata": {},
   "outputs": [
    {
     "data": {
      "text/plain": [
       "<psycopg.Cursor [COMMAND_OK] [INTRANS] (host=localhost user=sunsin database=sunsindb) at 0x7f6b6a746610>"
      ]
     },
     "execution_count": 24,
     "metadata": {},
     "output_type": "execute_result"
    }
   ],
   "source": [
    "cursor.execute(\n",
    "                \"INSERT INTO lunch_menu (menu_name, member_name, dt) VALUES (%s, %s, %s);\",\n",
    "                (\"짜장면\", \"SEO\", \"2025-02-03\")\n",
    "                )"
   ]
  },
  {
   "cell_type": "code",
   "execution_count": 26,
   "id": "b921f8a3-16c0-4a98-9aad-1b864bdeb0c9",
   "metadata": {},
   "outputs": [],
   "source": [
    "conn.commit()"
   ]
  },
  {
   "cell_type": "code",
   "execution_count": 27,
   "id": "6e6af807-baf5-40d4-b6d3-71a41e45cdb3",
   "metadata": {},
   "outputs": [],
   "source": [
    "conn.close()"
   ]
  }
 ],
 "metadata": {
  "kernelspec": {
   "display_name": "Python 3 (ipykernel)",
   "language": "python",
   "name": "python3"
  },
  "language_info": {
   "codemirror_mode": {
    "name": "ipython",
    "version": 3
   },
   "file_extension": ".py",
   "mimetype": "text/x-python",
   "name": "python",
   "nbconvert_exporter": "python",
   "pygments_lexer": "ipython3",
   "version": "3.10.12"
  }
 },
 "nbformat": 4,
 "nbformat_minor": 5
}
